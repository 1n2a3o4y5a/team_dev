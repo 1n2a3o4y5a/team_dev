{
 "cells": [
  {
   "cell_type": "code",
   "execution_count": 1,
   "metadata": {},
   "outputs": [
    {
     "output_type": "stream",
     "name": "stdout",
     "text": [
      "       station_code station_name  prefecture_code           address\n0           1110101           函館                1    北海道函館市若松町１２-１３\n1           1110102          五稜郭                1           函館市亀田本町\n2           1110103           桔梗                1  北海道函館市桔梗３丁目４１-３６\n3           1110104          大中山                1       亀田郡七飯町大字大中山\n4           1110105           七飯                1         亀田郡七飯町字本町\n...             ...          ...              ...               ...\n10850       9992719        てだこ浦西               47     沖縄県浦添市前田三丁目21\n10851       9992801      九州鉄道記念館               40        福岡県北九州市門司区\n10852       9992802        出光美術館               40        福岡県北九州市門司区\n10853       9992803     ノーフォーク広場               40     福岡県北九州市門司区旧門司\n10854       9992804      関門海峡めかり               40      福岡県北九州市門司区門司\n\n[10855 rows x 4 columns]\n        prefecture_code  city_code city_name city_name_ruby\n0                     1       1101    札幌市中央区    サッポロシチュウオウク\n990                   1       1102     札幌市北区       サッポロシキタク\n2047                  1       1103     札幌市東区      サッポロシヒガシク\n3152                  1       1104    札幌市白石区     サッポロシシロイシク\n3612                  1       1105    札幌市豊平区     サッポロシトヨヒラク\n...                 ...        ...       ...            ...\n189949               47      47361   島尻郡久米島町  シマジリグンクメジマチョウ\n189976               47      47362   島尻郡八重瀬町   シマジリグンヤエセチョウ\n189999               47      47375   宮古郡多良間村     ミヤコグンタラマソン\n190002               47      47381   八重山郡竹富町  ヤエヤマグンタケトミチョウ\n190015               47      47382  八重山郡与那国町  ヤエヤマグンヨナグニチョウ\n\n[1894 rows x 4 columns]\n"
     ]
    }
   ],
   "source": [
    "import pandas as pd\n",
    "\n",
    "\n",
    "original = pd.read_csv('data.csv')\n",
    "original = original.drop(['都道府県名ローマ字', '市区町村名ローマ字', '大字町丁目コード', '大字町丁目名', '緯度', '経度'], axis=1)\n",
    "original = original.rename(columns={'都道府県コード':  'prefecture_code', \n",
    "                                                                 '都道府県名': ' prefecture_name',\n",
    "                                                                 '都道府県名カナ': 'prefecture_name_ruby', \n",
    "                                                                 '市区町村コード': 'city_code',\n",
    "                                                                 '市区町村名': 'city_name',\n",
    "                                                                 '市区町村名カナ': 'city_name_ruby',})\n",
    "\n",
    "station = pd.read_csv('station.csv')\n",
    "station = station.drop(['station_name_k', 'station_name_r', 'station_g_cd', 'line_cd', 'post', 'lon', 'lat', 'open_ymd', 'close_ymd', 'e_status', 'e_sort'],axis=1)\n",
    "station = station.rename(columns={'station_cd': 'station_code', 'pref_cd': 'prefecture_code'})\n",
    "\n",
    "\n",
    "\n",
    "prefecture = original.iloc[:,:3]\n",
    "counter_prefecture = prefecture.iloc[0, 0]\n",
    "drop_prefecture = []\n",
    "for i in range(len(prefecture) - 1):\n",
    "    if prefecture.iloc[i, 0] == counter_prefecture:\n",
    "        drop_prefecture.append(i)\n",
    "    else:\n",
    "        counter_prefecture = prefecture.iloc[i, 0]\n",
    "        continue\n",
    "prefecture = prefecture.drop(drop_prefecture)\n",
    "\n",
    "city = original.drop(columns=original.columns[[1, 2]])\n",
    "counter_city = city.iloc[0,1]\n",
    "drop_city = []\n",
    "for i in range(1, len(city) - 1):\n",
    "    if city.iloc[i, 1] == counter_city:\n",
    "        drop_city.append(i)\n",
    "    else:\n",
    "        counter_city = city.iloc[i, 1]\n",
    "        continue\n",
    "city =  city.drop(drop_city)\n",
    "\n",
    "print(station)\n",
    "\n",
    "\n",
    "\n",
    "append_city_code_list = []\n",
    "for i in range(len(station) - 1):\n",
    "    append_code = 0\n",
    "    for j in range(len(city) - 1):\n",
    "        if city.iloc[j, 2] in station.iloc[i, 3]:\n",
    "            # append_city_code_list.append(city.iloc[j, 1])\n",
    "            append_code = city.iloc[j, 1]\n",
    "    append_city_code_list.append\n",
    "\n",
    "print(len(append_city_code_list))"
   ]
  },
  {
   "cell_type": "code",
   "execution_count": 32,
   "metadata": {},
   "outputs": [],
   "source": []
  },
  {
   "cell_type": "code",
   "execution_count": null,
   "metadata": {},
   "outputs": [],
   "source": []
  }
 ],
 "metadata": {
  "kernelspec": {
   "display_name": "Python 3",
   "language": "python",
   "name": "python3"
  },
  "language_info": {
   "codemirror_mode": {
    "name": "ipython",
    "version": 3
   },
   "file_extension": ".py",
   "mimetype": "text/x-python",
   "name": "python",
   "nbconvert_exporter": "python",
   "pygments_lexer": "ipython3",
   "version": "3.7.6-final"
  }
 },
 "nbformat": 4,
 "nbformat_minor": 4
}