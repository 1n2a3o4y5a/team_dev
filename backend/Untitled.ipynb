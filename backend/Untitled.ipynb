{
 "cells": [
  {
   "cell_type": "code",
   "execution_count": 45,
   "metadata": {},
   "outputs": [
    {
     "name": "stdout",
     "output_type": "stream",
     "text": [
      "10855\n"
     ]
    },
    {
     "ename": "NameError",
     "evalue": "name 'append_city_code' is not defined",
     "output_type": "error",
     "traceback": [
      "\u001b[0;31m---------------------------------------------------------------------------\u001b[0m",
      "\u001b[0;31mNameError\u001b[0m                                 Traceback (most recent call last)",
      "\u001b[0;32m<ipython-input-45-a57a0c77629f>\u001b[0m in \u001b[0;36m<module>\u001b[0;34m\u001b[0m\n\u001b[1;32m     52\u001b[0m \u001b[0;31m# print(station)\u001b[0m\u001b[0;34m\u001b[0m\u001b[0;34m\u001b[0m\u001b[0;34m\u001b[0m\u001b[0m\n\u001b[1;32m     53\u001b[0m \u001b[0mprint\u001b[0m\u001b[0;34m(\u001b[0m\u001b[0mlen\u001b[0m\u001b[0;34m(\u001b[0m\u001b[0mstation\u001b[0m\u001b[0;34m)\u001b[0m\u001b[0;34m)\u001b[0m\u001b[0;34m\u001b[0m\u001b[0;34m\u001b[0m\u001b[0m\n\u001b[0;32m---> 54\u001b[0;31m \u001b[0mprint\u001b[0m\u001b[0;34m(\u001b[0m\u001b[0mlen\u001b[0m\u001b[0;34m(\u001b[0m\u001b[0mappend_city_code\u001b[0m\u001b[0;34m)\u001b[0m\u001b[0;34m)\u001b[0m\u001b[0;34m\u001b[0m\u001b[0;34m\u001b[0m\u001b[0m\n\u001b[0m\u001b[1;32m     55\u001b[0m \u001b[0;34m\u001b[0m\u001b[0m\n\u001b[1;32m     56\u001b[0m \u001b[0;34m\u001b[0m\u001b[0m\n",
      "\u001b[0;31mNameError\u001b[0m: name 'append_city_code' is not defined"
     ]
    }
   ],
   "source": [
    "import pandas as pd\n",
    "\n",
    "\n",
    "original = pd.read_csv('data.csv')\n",
    "original = original.drop(['都道府県名ローマ字', '市区町村名ローマ字', '大字町丁目コード', '大字町丁目名', '緯度', '経度'], axis=1)\n",
    "original = original.rename(columns={'都道府県コード':  'prefecture_code', \n",
    "                                                                 '都道府県名': ' prefecture_name',\n",
    "                                                                 '都道府県名カナ': 'prefecture_name_ruby', \n",
    "                                                                 '市区町村コード': 'city_code',\n",
    "                                                                 '市区町村名': 'city_name',\n",
    "                                                                 '市区町村名カナ': 'city_name_ruby',})\n",
    "\n",
    "station = pd.read_csv('station.csv')\n",
    "station = station.drop(['station_name_k', 'station_name_r', 'post', 'lon', 'lat', 'open_ymd', 'close_ymd', 'e_status', 'e_sort'], axis=1)\n",
    "station = station.rename(columns={'station_cd': 'station_code',\n",
    "                                                              'station_g_cd': 'station_g_code',\n",
    "                                                              'line_cd': 'line_code',\n",
    "                                                              'pref_cd': 'prefecture_code'})\n",
    "\n",
    "\n",
    "\n",
    "prefecture = original.iloc[:,:3]\n",
    "counter_prefecture = prefecture.iloc[0, 0]\n",
    "drop_prefecture = []\n",
    "for i in range(len(prefecture)):\n",
    "    if prefecture.iloc[i, 0] == counter_prefecture:\n",
    "        drop_prefecture.append(i)\n",
    "    else:\n",
    "        counter_prefecture = prefecture.iloc[i, 0]\n",
    "        continue\n",
    "prefecture = prefecture.drop(drop_prefecture)\n",
    "\n",
    "city = original.drop(columns=original.columns[[1, 2]])\n",
    "counter_city = city.iloc[0,1]\n",
    "drop_city = []\n",
    "for i in range(len(city)):\n",
    "    if city.iloc[i, 1] == counter_city:\n",
    "        drop_city.append(i)\n",
    "    else:\n",
    "        counter_city = city.iloc[i, 1]\n",
    "        continue\n",
    "city =  city.drop(drop_city)\n",
    "\n",
    "append_city_code_list = []\n",
    "for i in range(len(station)):\n",
    "    for j in range(len(city)):\n",
    "        if city.iloc[j, 2] in station.iloc[i,5]:\n",
    "            append_city_code_list.append(city.iloc[j, 2])\n",
    "            continue\n",
    "            \n",
    "# station['city_code'] = append_city_code_list\n",
    "# print(station)\n",
    "print(len(station))\n",
    "print(len(append_city_code_list))\n",
    "\n",
    "\n",
    "\n"
   ]
  },
  {
   "cell_type": "code",
   "execution_count": 46,
   "metadata": {},
   "outputs": [
    {
     "name": "stdout",
     "output_type": "stream",
     "text": [
      "11457\n"
     ]
    }
   ],
   "source": [
    "print(len(append_city_code_list))"
   ]
  },
  {
   "cell_type": "code",
   "execution_count": null,
   "metadata": {},
   "outputs": [],
   "source": []
  }
 ],
 "metadata": {
  "kernelspec": {
   "display_name": "Python 3",
   "language": "python",
   "name": "python3"
  },
  "language_info": {
   "codemirror_mode": {
    "name": "ipython",
    "version": 3
   },
   "file_extension": ".py",
   "mimetype": "text/x-python",
   "name": "python",
   "nbconvert_exporter": "python",
   "pygments_lexer": "ipython3",
   "version": "3.7.6"
  }
 },
 "nbformat": 4,
 "nbformat_minor": 4
}
